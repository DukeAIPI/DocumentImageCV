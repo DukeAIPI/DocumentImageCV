{
 "cells": [
  {
   "cell_type": "code",
   "execution_count": 1,
   "id": "b1ed3987",
   "metadata": {},
   "outputs": [
    {
     "name": "stdout",
     "output_type": "stream",
     "text": [
      "Deleting duplicate gujarati images...\n",
      "Found 18 images with one or more duplicate/similar images in 4.505 seconds.\n",
      "Are you sure you want to delete all lower resolution duplicate images? \n",
      "This cannot be undone. (y/n)y\n",
      "\n",
      "Deletion in progress...\n",
      "Deleted file: russian documents/29.8774b044312a8d85ccd1957b67a33df5.jpg\n",
      "\n",
      "***\n",
      "Deleted 1 duplicates/similar images.\n",
      "\n",
      "Deletion in progress...\n",
      "Deleted file: russian documents/25.5tymofeev_bushuev_1.jpg\n",
      "\n",
      "***\n",
      "Deleted 1 duplicates/similar images.\n",
      "\n",
      "Deletion in progress...\n",
      "Deleted file: russian documents/37.worlds-best-teacher-russian-text-black-white-vector-school-illustration-greeting-card-tshirt-mug-poster-hand-lettering-173811288.jpg\n",
      "\n",
      "***\n",
      "Deleted 1 duplicates/similar images.\n",
      "\n",
      "Deletion in progress...\n",
      "Deleted file: russian documents/3.russian_draft_rules-page2.jpg\n",
      "\n",
      "***\n",
      "Deleted 1 duplicates/similar images.\n",
      "\n",
      "Deletion in progress...\n",
      "Deleted file: russian documents/66.st,small,507x507-pad,600x600,f8f8f8.jpg\n",
      "\n",
      "***\n",
      "Deleted 1 duplicates/similar images.\n",
      "\n",
      "Deletion in progress...\n",
      "Deleted file: russian documents/43.6fa71c133ca05c96c60ccfa0ee0fc9ab.jpg\n",
      "\n",
      "***\n",
      "Deleted 1 duplicates/similar images.\n",
      "\n",
      "Deletion in progress...\n",
      "Deleted file: russian documents/49.daddy-s-princess-russian-text-crown-black-lettering-isolated-white-background-vector-illustration-papina-princessa-206832704.jpg\n",
      "\n",
      "***\n",
      "Deleted 1 duplicates/similar images.\n",
      "\n",
      "Deletion in progress...\n",
      "Deleted file: russian documents/40.russian-text-calligraphy-lettering-text-happy-new-year-vector.jpg\n",
      "\n",
      "***\n",
      "Deleted 1 duplicates/similar images.\n",
      "\n",
      "Deletion in progress...\n",
      "Deleted file: russian documents/67.bookreaderimages.php.jpg\n",
      "\n",
      "***\n",
      "Deleted 1 duplicates/similar images.\n",
      "\n",
      "Deletion in progress...\n",
      "Deleted file: russian documents/46.bookreaderimages.php.jpg\n",
      "\n",
      "***\n",
      "Deleted 1 duplicates/similar images.\n",
      "\n",
      "Deletion in progress...\n",
      "Deleted file: russian documents/24.st,small,507x507-pad,600x600,f8f8f8.u4.jpg\n",
      "\n",
      "***\n",
      "Deleted 1 duplicates/similar images.\n",
      "\n",
      "Deletion in progress...\n",
      "Deleted file: russian documents/8.bookreaderimages.php.jpg\n",
      "\n",
      "***\n",
      "Deleted 1 duplicates/similar images.\n",
      "\n",
      "Deletion in progress...\n",
      "Deleted file: russian documents/34.russian-text-calligraphy-lettering-text-happy-new-year-vector.jpg\n",
      "\n",
      "***\n",
      "Deleted 1 duplicates/similar images.\n",
      "\n",
      "Deletion in progress...\n",
      "Deleted file: russian documents/35.happy-new-year-russian-winter-holiday-congratulation-poster-numbers-mouse-cyrillic-text-christmas-greeting-card-elegant-164076156.jpg\n",
      "\n",
      "***\n",
      "Deleted 1 duplicates/similar images.\n",
      "\n",
      "Deletion in progress...\n",
      "Deleted file: russian documents/64.2019-7-26-translationkgb.jpeg\n",
      "\n",
      "***\n",
      "Deleted 1 duplicates/similar images.\n",
      "\n",
      "Deletion in progress...\n",
      "Deleted file: russian documents/42.russian_draft_rules-page1.jpg\n",
      "\n",
      "***\n",
      "Deleted 1 duplicates/similar images.\n",
      "\n",
      "Deletion in progress...\n",
      "Deleted file: russian documents/13.st,small,507x507-pad,600x600,f8f8f8.jpg\n",
      "\n",
      "***\n",
      "Deleted 1 duplicates/similar images.\n",
      "\n",
      "Deletion in progress...\n",
      "Deleted file: russian documents/66.9071427_doc1.jpg\n",
      "\n",
      "***\n",
      "Deleted 1 duplicates/similar images.\n"
     ]
    },
    {
     "data": {
      "text/plain": [
       "<difPy.dif.dif at 0x1a94e7f9b50>"
      ]
     },
     "execution_count": 1,
     "metadata": {},
     "output_type": "execute_result"
    }
   ],
   "source": [
    "from difPy import dif\n",
    "\n",
    "print('Deleting duplicate gujarati images...')\n",
    "dif(\"russian documents\", delete=True, similarity=\"high\")"
   ]
  },
  {
   "cell_type": "code",
   "execution_count": 8,
   "id": "971878d0",
   "metadata": {},
   "outputs": [
    {
     "name": "stderr",
     "output_type": "stream",
     "text": [
      "<ipython-input-8-cff7ba4b1330>:26: DeprecationWarning: `np.str` is a deprecated alias for the builtin `str`. To silence this warning, use `str` by itself. Doing this will not modify any behavior and is safe. If you specifically wanted the numpy scalar type, use `np.str_` here.\n",
      "Deprecated in NumPy 1.20; for more details and guidance: https://numpy.org/devdocs/release/1.20.0-notes.html#deprecations\n",
      "  io.imsave(r'Russian_gray3/'+np.str(i)+'.bmp',coll[i])\n",
      "Lossy conversion from float64 to uint8. Range [0, 1]. Convert image to uint8 prior to saving to suppress this warning.\n",
      "Lossy conversion from float64 to uint8. Range [0, 1]. Convert image to uint8 prior to saving to suppress this warning.\n",
      "Lossy conversion from float64 to uint8. Range [0, 1]. Convert image to uint8 prior to saving to suppress this warning.\n",
      "<ipython-input-8-cff7ba4b1330>:7: FutureWarning: The behavior of rgb2gray will change in scikit-image 0.19. Currently, rgb2gray allows 2D grayscale image to be passed as inputs and leaves them unmodified as outputs. Starting from version 0.19, 2D arrays will be treated as 1D images with 3 channels.\n",
      "  gray=color.rgb2gray(rgb) #将彩色图片转换为灰度图片\n",
      "Lossy conversion from float64 to uint8. Range [0, 1]. Convert image to uint8 prior to saving to suppress this warning.\n"
     ]
    },
    {
     "name": "stdout",
     "output_type": "stream",
     "text": [
      "454\n",
      "185\n",
      "294\n",
      "338\n"
     ]
    },
    {
     "name": "stderr",
     "output_type": "stream",
     "text": [
      "<ipython-input-8-cff7ba4b1330>:26: UserWarning: Russian_gray3/4.bmp is a low contrast image\n",
      "  io.imsave(r'Russian_gray3/'+np.str(i)+'.bmp',coll[i])\n",
      "Lossy conversion from float64 to uint8. Range [0, 1]. Convert image to uint8 prior to saving to suppress this warning.\n",
      "Lossy conversion from float64 to uint8. Range [0, 1]. Convert image to uint8 prior to saving to suppress this warning.\n",
      "Lossy conversion from float64 to uint8. Range [0, 1]. Convert image to uint8 prior to saving to suppress this warning.\n"
     ]
    },
    {
     "name": "stdout",
     "output_type": "stream",
     "text": [
      "205\n",
      "337\n",
      "181\n"
     ]
    },
    {
     "name": "stderr",
     "output_type": "stream",
     "text": [
      "Lossy conversion from float64 to uint8. Range [0, 1]. Convert image to uint8 prior to saving to suppress this warning.\n",
      "<ipython-input-8-cff7ba4b1330>:26: UserWarning: Russian_gray3/8.bmp is a low contrast image\n",
      "  io.imsave(r'Russian_gray3/'+np.str(i)+'.bmp',coll[i])\n",
      "Lossy conversion from float64 to uint8. Range [0, 1]. Convert image to uint8 prior to saving to suppress this warning.\n",
      "Lossy conversion from float64 to uint8. Range [0, 1]. Convert image to uint8 prior to saving to suppress this warning.\n"
     ]
    },
    {
     "name": "stdout",
     "output_type": "stream",
     "text": [
      "134\n",
      "181\n",
      "357\n"
     ]
    },
    {
     "name": "stderr",
     "output_type": "stream",
     "text": [
      "Lossy conversion from float64 to uint8. Range [0, 1]. Convert image to uint8 prior to saving to suppress this warning.\n",
      "Lossy conversion from float64 to uint8. Range [0, 1]. Convert image to uint8 prior to saving to suppress this warning.\n",
      "Lossy conversion from float64 to uint8. Range [0, 1]. Convert image to uint8 prior to saving to suppress this warning.\n",
      "Lossy conversion from float64 to uint8. Range [0, 1]. Convert image to uint8 prior to saving to suppress this warning.\n",
      "Lossy conversion from float64 to uint8. Range [0, 1]. Convert image to uint8 prior to saving to suppress this warning.\n"
     ]
    },
    {
     "name": "stdout",
     "output_type": "stream",
     "text": [
      "158\n",
      "119\n",
      "393\n",
      "137\n",
      "404\n",
      "256\n"
     ]
    },
    {
     "name": "stderr",
     "output_type": "stream",
     "text": [
      "Lossy conversion from float64 to uint8. Range [0, 1]. Convert image to uint8 prior to saving to suppress this warning.\n",
      "Lossy conversion from float64 to uint8. Range [0, 1]. Convert image to uint8 prior to saving to suppress this warning.\n",
      "Lossy conversion from float64 to uint8. Range [0, 1]. Convert image to uint8 prior to saving to suppress this warning.\n",
      "Lossy conversion from float64 to uint8. Range [0, 1]. Convert image to uint8 prior to saving to suppress this warning.\n",
      "Lossy conversion from float64 to uint8. Range [0, 1]. Convert image to uint8 prior to saving to suppress this warning.\n",
      "Lossy conversion from float64 to uint8. Range [0.025119012367787935, 1.0000000000000002]. Convert image to uint8 prior to saving to suppress this warning.\n"
     ]
    },
    {
     "name": "stdout",
     "output_type": "stream",
     "text": [
      "314\n",
      "231\n",
      "136\n",
      "119\n",
      "356\n"
     ]
    },
    {
     "name": "stderr",
     "output_type": "stream",
     "text": [
      "Lossy conversion from float64 to uint8. Range [0, 1]. Convert image to uint8 prior to saving to suppress this warning.\n",
      "Lossy conversion from float64 to uint8. Range [0, 1]. Convert image to uint8 prior to saving to suppress this warning.\n",
      "Lossy conversion from float64 to uint8. Range [0, 1]. Convert image to uint8 prior to saving to suppress this warning.\n",
      "Lossy conversion from float64 to uint8. Range [0, 1]. Convert image to uint8 prior to saving to suppress this warning.\n"
     ]
    },
    {
     "name": "stdout",
     "output_type": "stream",
     "text": [
      "170\n",
      "192\n",
      "207\n",
      "362\n",
      "359\n"
     ]
    },
    {
     "name": "stderr",
     "output_type": "stream",
     "text": [
      "Lossy conversion from float64 to uint8. Range [0, 1]. Convert image to uint8 prior to saving to suppress this warning.\n",
      "Lossy conversion from float64 to uint8. Range [0, 1]. Convert image to uint8 prior to saving to suppress this warning.\n",
      "Lossy conversion from float64 to uint8. Range [0, 1]. Convert image to uint8 prior to saving to suppress this warning.\n",
      "Lossy conversion from float64 to uint8. Range [0.21067047290908913, 1.0000000000000002]. Convert image to uint8 prior to saving to suppress this warning.\n",
      "Lossy conversion from float64 to uint8. Range [0, 1]. Convert image to uint8 prior to saving to suppress this warning.\n",
      "Lossy conversion from float64 to uint8. Range [0, 1]. Convert image to uint8 prior to saving to suppress this warning.\n",
      "Lossy conversion from float64 to uint8. Range [0, 1]. Convert image to uint8 prior to saving to suppress this warning.\n",
      "Lossy conversion from float64 to uint8. Range [0, 1]. Convert image to uint8 prior to saving to suppress this warning.\n"
     ]
    },
    {
     "name": "stdout",
     "output_type": "stream",
     "text": [
      "122\n",
      "198\n",
      "362\n",
      "192\n",
      "319\n",
      "361\n",
      "212\n",
      "283\n"
     ]
    },
    {
     "name": "stderr",
     "output_type": "stream",
     "text": [
      "Lossy conversion from float64 to uint8. Range [0, 1]. Convert image to uint8 prior to saving to suppress this warning.\n",
      "Lossy conversion from float64 to uint8. Range [0, 1]. Convert image to uint8 prior to saving to suppress this warning.\n",
      "Lossy conversion from float64 to uint8. Range [0, 1]. Convert image to uint8 prior to saving to suppress this warning.\n",
      "Lossy conversion from float64 to uint8. Range [0, 1]. Convert image to uint8 prior to saving to suppress this warning.\n"
     ]
    },
    {
     "name": "stdout",
     "output_type": "stream",
     "text": [
      "362\n",
      "182\n",
      "362\n"
     ]
    },
    {
     "name": "stderr",
     "output_type": "stream",
     "text": [
      "Lossy conversion from float64 to uint8. Range [0, 1]. Convert image to uint8 prior to saving to suppress this warning.\n"
     ]
    },
    {
     "name": "stdout",
     "output_type": "stream",
     "text": [
      "355\n"
     ]
    },
    {
     "name": "stderr",
     "output_type": "stream",
     "text": [
      "Lossy conversion from float64 to uint8. Range [0, 1]. Convert image to uint8 prior to saving to suppress this warning.\n",
      "Lossy conversion from float64 to uint8. Range [0, 1]. Convert image to uint8 prior to saving to suppress this warning.\n",
      "Lossy conversion from float64 to uint8. Range [0, 1]. Convert image to uint8 prior to saving to suppress this warning.\n",
      "Lossy conversion from float64 to uint8. Range [0, 1]. Convert image to uint8 prior to saving to suppress this warning.\n",
      "<ipython-input-8-cff7ba4b1330>:26: UserWarning: Russian_gray3/42.bmp is a low contrast image\n",
      "  io.imsave(r'Russian_gray3/'+np.str(i)+'.bmp',coll[i])\n",
      "Lossy conversion from float64 to uint8. Range [0, 1]. Convert image to uint8 prior to saving to suppress this warning.\n",
      "Lossy conversion from float64 to uint8. Range [0, 1]. Convert image to uint8 prior to saving to suppress this warning.\n"
     ]
    },
    {
     "name": "stdout",
     "output_type": "stream",
     "text": [
      "137\n",
      "170\n",
      "362\n",
      "68\n",
      "204\n",
      "384\n"
     ]
    },
    {
     "name": "stderr",
     "output_type": "stream",
     "text": [
      "Lossy conversion from float64 to uint8. Range [0, 1]. Convert image to uint8 prior to saving to suppress this warning.\n",
      "Lossy conversion from float64 to uint8. Range [0, 1]. Convert image to uint8 prior to saving to suppress this warning.\n",
      "Lossy conversion from float64 to uint8. Range [0, 1]. Convert image to uint8 prior to saving to suppress this warning.\n",
      "Lossy conversion from float64 to uint8. Range [0, 1]. Convert image to uint8 prior to saving to suppress this warning.\n",
      "Lossy conversion from float64 to uint8. Range [0, 1]. Convert image to uint8 prior to saving to suppress this warning.\n",
      "Lossy conversion from float64 to uint8. Range [0, 1]. Convert image to uint8 prior to saving to suppress this warning.\n"
     ]
    },
    {
     "name": "stdout",
     "output_type": "stream",
     "text": [
      "181\n",
      "371\n",
      "186\n",
      "1466\n",
      "254\n",
      "368\n"
     ]
    },
    {
     "name": "stderr",
     "output_type": "stream",
     "text": [
      "Lossy conversion from float64 to uint8. Range [0, 1]. Convert image to uint8 prior to saving to suppress this warning.\n"
     ]
    },
    {
     "name": "stdout",
     "output_type": "stream",
     "text": [
      "181\n"
     ]
    }
   ],
   "source": [
    "from skimage import io,transform,color\n",
    "import numpy as np\n",
    "from torchvision import transforms\n",
    "\n",
    "def convert_gray(f,**args):\n",
    "    rgb=io.imread(f)   \n",
    "    gray=color.rgb2gray(rgb) \n",
    "    H = gray.shape[0]\n",
    "    W = gray.shape[1]\n",
    "    height = int(H*256/W)\n",
    "    dst=transform.resize(gray,(height,256)) \n",
    "    sz1 = dst.shape[0]\n",
    "    print(sz1)\n",
    "    sz2 = dst.shape[1]\n",
    "    a = int(sz1/2-112)\n",
    "    b = int(sz1/2+112)\n",
    "    c = int(sz2/2-112)\n",
    "    d = int(sz2/2+112)\n",
    "    dst = dst[a:b,c:d] \n",
    "    transform = torchvision.transforms.Compose([\n",
    "    torchvision.transforms.ToTensor(),\n",
    "    torchvision.transforms.Normalize(\n",
    "        mean=[0.485, 0.456, 0.406],\n",
    "        std=[0.229, 0.224, 0.225],\n",
    "    ),\n",
    "])\n",
    "    normalized_img = transform(dst)\n",
    "    \n",
    "    \n",
    "    return normalized_img\n",
    "datapath='Russian2'  #图片所在的路径\n",
    "str=datapath+'/*.jpg'   #识别.jpg的图像\n",
    "coll = io.ImageCollection(str,load_func=convert_gray)#批处理\n",
    "for i in range(len(coll)):\n",
    "\n",
    "    io.imsave(r'Russian_gray3/'+np.str(i)+'.bmp',coll[i]) "
   ]
  },
  {
   "cell_type": "code",
   "execution_count": null,
   "id": "6bde8373",
   "metadata": {},
   "outputs": [],
   "source": []
  }
 ],
 "metadata": {
  "kernelspec": {
   "display_name": "Python 3",
   "language": "python",
   "name": "python3"
  },
  "language_info": {
   "codemirror_mode": {
    "name": "ipython",
    "version": 3
   },
   "file_extension": ".py",
   "mimetype": "text/x-python",
   "name": "python",
   "nbconvert_exporter": "python",
   "pygments_lexer": "ipython3",
   "version": "3.8.8"
  }
 },
 "nbformat": 4,
 "nbformat_minor": 5
}
