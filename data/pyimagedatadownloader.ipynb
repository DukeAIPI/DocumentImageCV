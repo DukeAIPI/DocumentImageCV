{
  "nbformat": 4,
  "nbformat_minor": 0,
  "metadata": {
    "colab": {
      "name": "pyimagedatadownloader.ipynb",
      "provenance": []
    },
    "kernelspec": {
      "name": "python3",
      "display_name": "Python 3"
    },
    "language_info": {
      "name": "python"
    }
  },
  "cells": [
    {
      "cell_type": "markdown",
      "source": [
        "google image scraper utility tool for aipi540 cv project\n",
        "\n",
        "Usage: https://google-images-download.readthedocs.io/en/latest/arguments.html "
      ],
      "metadata": {
        "id": "W000jhlj4YXv"
      }
    },
    {
      "cell_type": "code",
      "execution_count": 10,
      "metadata": {
        "colab": {
          "base_uri": "https://localhost:8080/"
        },
        "id": "VAv9NW1zviNn",
        "outputId": "db8a86a5-3117-42ae-dea5-c9c91bf6c5f1"
      },
      "outputs": [
        {
          "output_type": "stream",
          "name": "stdout",
          "text": [
            "Cloning into 'google-images-download'...\n",
            "remote: Enumerating objects: 719, done.\u001b[K\n",
            "remote: Counting objects: 100% (53/53), done.\u001b[K\n",
            "remote: Compressing objects: 100% (21/21), done.\u001b[K\n",
            "remote: Total 719 (delta 32), reused 48 (delta 32), pack-reused 666\u001b[K\n",
            "Receiving objects: 100% (719/719), 319.77 KiB | 8.20 MiB/s, done.\n",
            "Resolving deltas: 100% (422/422), done.\n"
          ]
        }
      ],
      "source": [
        "!git clone https://github.com/Joeclinton1/google-images-download.git"
      ]
    },
    {
      "cell_type": "code",
      "source": [
        "cd google-images-download/"
      ],
      "metadata": {
        "colab": {
          "base_uri": "https://localhost:8080/"
        },
        "id": "4w7gHuUiyMYi",
        "outputId": "00ecad62-656b-4b21-ead8-dd68bccbf405"
      },
      "execution_count": 3,
      "outputs": [
        {
          "output_type": "stream",
          "name": "stdout",
          "text": [
            "/content/google-images-download\n"
          ]
        }
      ]
    },
    {
      "cell_type": "code",
      "source": [
        "!pip install -r requirements.txt\n",
        "!python setup.py install"
      ],
      "metadata": {
        "id": "MfD1tnOfySKo"
      },
      "execution_count": null,
      "outputs": []
    },
    {
      "cell_type": "code",
      "source": [
        "!googleimagesdownload -k \"hindi documents\" -l 20 -f \"jpg\""
      ],
      "metadata": {
        "colab": {
          "base_uri": "https://localhost:8080/"
        },
        "id": "s9U7badcyeuB",
        "outputId": "8af66cb1-eb43-4df3-ecf7-97ff2e9aa949"
      },
      "execution_count": 9,
      "outputs": [
        {
          "output_type": "stream",
          "name": "stdout",
          "text": [
            "\n",
            "Item no.: 1 --> Item name = hindi documents\n",
            "Evaluating...\n",
            "Starting Download...\n",
            "Completed Image ====> 1.a-subimage-of-a-hindi-document-in-devanagri-script-with-the-groundtruth-overlaid_q640.jpg\n",
            "Completed Image ====> 2.translate-any-hindi-document-to-english-with-high-accuracy.jpg\n",
            "Completed Image ====> 3.translate-documents-between-hindi-and-english-languages.jpg\n",
            "Completed Image ====> 4.document-line-hindi-letter-png-favpng-1cewpjjfsmvxsun7qbpuxggcf.jpg\n",
            "Completed Image ====> 5.r-1.jpg\n",
            "Completed Image ====> 6.the-lines-of-text-are-sample-hindi-images-from-our-corpus-the-first-two-lines-are_q640.jpg\n",
            "Completed Image ====> 7.maxresdefault.jpg\n",
            "Completed Image ====> 8.document-line-urdu-poetry-hindi-png-favpng-8kvp4fbrddvse3umrpn2m7tqm.jpg\n",
            "Completed Image ====> 9.translate-english-to-hindi-and-vice-versa.png.jpg\n",
            "Completed Image ====> 10.maxresdefault.jpg\n",
            "Completed Image ====> 11.r-1.jpg\n",
            "Completed Image ====> 12.maxresdefault.jpg\n",
            "Completed Image ====> 13.istock-922686498-1590634697.jpg\n",
            "Completed Image ====> 14.legal+app.4ps4+lost+imp.+doc.(s).jpg\n",
            "Completed Image ====> 15.translate-documents-from-hindi-to-english.jpg\n",
            "Completed Image ====> 16.hindi.jpg\n",
            "Completed Image ====> 17.fonttypeidentificationofhindiprinteddocument-140812035426-phpapp02-thumbnail-4.jpg\n",
            "Completed Image ====> 18.indexing-searching-hindi-documents.jpg\n",
            "Completed Image ====> 19.hindi2.jpg\n",
            "Completed Image ====> 20.maxresdefault.jpg\n",
            "\n",
            "Errors: 0\n",
            "\n",
            "\n",
            "Everything downloaded!\n",
            "Total errors: 0\n",
            "Total time taken: 10.650315999984741 Seconds\n"
          ]
        }
      ]
    },
    {
      "cell_type": "code",
      "source": [
        ""
      ],
      "metadata": {
        "id": "CXDYN8jw3AlR"
      },
      "execution_count": null,
      "outputs": []
    }
  ]
}